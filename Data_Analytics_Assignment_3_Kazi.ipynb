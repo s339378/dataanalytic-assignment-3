{
  "cells": [
    {
      "cell_type": "code",
      "execution_count": null,
      "id": "a35aebe3",
      "metadata": {
        "_cell_guid": "b1076dfc-b9ad-4769-8c92-a6c4dae69d19",
        "_uuid": "8f2839f25d086af736a60e9eeb907d3b93b6e0e5",
        "execution": {
          "iopub.execute_input": "2022-04-06T15:15:34.809622Z",
          "iopub.status.busy": "2022-04-06T15:15:34.808784Z",
          "iopub.status.idle": "2022-04-06T15:15:35.623851Z",
          "shell.execute_reply": "2022-04-06T15:15:35.624277Z",
          "shell.execute_reply.started": "2022-04-06T15:14:29.063172Z"
        },
        "papermill": {
          "duration": 0.830902,
          "end_time": "2022-04-06T15:15:35.624496",
          "exception": false,
          "start_time": "2022-04-06T15:15:34.793594",
          "status": "completed"
        },
        "tags": [],
        "id": "a35aebe3"
      },
      "outputs": [],
      "source": [
        "import numpy as np\n",
        "import pandas as pd\n",
        "import seaborn as sns\n",
        "import matplotlib.pyplot as plt\n",
        "import warnings\n",
        "warnings.filterwarnings(\"ignore\")\n",
        "\n",
        "import os"
      ]
    },
    {
      "cell_type": "code",
      "execution_count": null,
      "id": "9a1c8154",
      "metadata": {
        "execution": {
          "iopub.execute_input": "2022-04-06T15:15:35.652611Z",
          "iopub.status.busy": "2022-04-06T15:15:35.651189Z",
          "iopub.status.idle": "2022-04-06T15:15:35.881177Z",
          "shell.execute_reply": "2022-04-06T15:15:35.881751Z",
          "shell.execute_reply.started": "2022-04-06T15:14:29.321722Z"
        },
        "papermill": {
          "duration": 0.245128,
          "end_time": "2022-04-06T15:15:35.881904",
          "exception": false,
          "start_time": "2022-04-06T15:15:35.636776",
          "status": "completed"
        },
        "tags": [],
        "colab": {
          "base_uri": "https://localhost:8080/",
          "height": 401
        },
        "id": "9a1c8154",
        "outputId": "652f05a9-8ce8-4351-d0e3-dc0a21794ee1"
      },
      "outputs": [
        {
          "output_type": "stream",
          "name": "stdout",
          "text": [
            "Drive already mounted at /content/drive/; to attempt to forcibly remount, call drive.mount(\"/content/drive/\", force_remount=True).\n"
          ]
        },
        {
          "output_type": "execute_result",
          "data": {
            "text/plain": [
              "  Accident Code Accident Day Accident Description  Accident Time  \\\n",
              "0             A           TU   HIT PARKED VEHICLE            905   \n",
              "1             A           TU   HIT PARKED VEHICLE            905   \n",
              "2             A           SA         RAN OFF ROAD           2227   \n",
              "3             A           TH   HIT PARKED VEHICLE            700   \n",
              "4             A           WE   HIT PARKED VEHICLE            910   \n",
              "\n",
              "   _Accident Last 10y  Accident Year Alcohol Related _f_Cyclist  \\\n",
              "0                True           2017               N      False   \n",
              "1                True           2017               N      False   \n",
              "2                True           2021               Y      False   \n",
              "3                True           2016               N      False   \n",
              "4                True           2016               N      False   \n",
              "\n",
              "  _Veh_1 Trvl_Dir  _Dist No_Persons  ...  _Accident Month_Name  \\\n",
              "0               9                 1  ...                   May   \n",
              "1               9                 1  ...                   May   \n",
              "2               N                 1  ...                  July   \n",
              "3               9                 1  ...                 April   \n",
              "4               S                 1  ...               October   \n",
              "\n",
              "   _Dist No_Crashes _DA_RunningTotal _Cyclist Involved _Veh_6 Trvl_Dir  \\\n",
              "0                 1                1                 N               -   \n",
              "1                 1                1                 N               -   \n",
              "2                 1                1                 N               -   \n",
              "3                 1                1                 N               -   \n",
              "4                 1                1                 N               -   \n",
              "\n",
              "   _Veh_5 Trvl_Dir _Veh_4 Trvl_Dir _Veh_2 Trvl_Dir _Veh_3 Trvl_Dir  \\\n",
              "0                -               -               -               -   \n",
              "1                -               -               -               -   \n",
              "2                -               -               -               -   \n",
              "3                -               -               9               -   \n",
              "4                -               -               S               -   \n",
              "\n",
              "  _f_Pedestrian  \n",
              "0         False  \n",
              "1         False  \n",
              "2         False  \n",
              "3         False  \n",
              "4         False  \n",
              "\n",
              "[5 rows x 78 columns]"
            ],
            "text/html": [
              "\n",
              "  <div id=\"df-b0f3ff8b-a9b7-4439-97ea-de69aa3c2ae8\">\n",
              "    <div class=\"colab-df-container\">\n",
              "      <div>\n",
              "<style scoped>\n",
              "    .dataframe tbody tr th:only-of-type {\n",
              "        vertical-align: middle;\n",
              "    }\n",
              "\n",
              "    .dataframe tbody tr th {\n",
              "        vertical-align: top;\n",
              "    }\n",
              "\n",
              "    .dataframe thead th {\n",
              "        text-align: right;\n",
              "    }\n",
              "</style>\n",
              "<table border=\"1\" class=\"dataframe\">\n",
              "  <thead>\n",
              "    <tr style=\"text-align: right;\">\n",
              "      <th></th>\n",
              "      <th>Accident Code</th>\n",
              "      <th>Accident Day</th>\n",
              "      <th>Accident Description</th>\n",
              "      <th>Accident Time</th>\n",
              "      <th>_Accident Last 10y</th>\n",
              "      <th>Accident Year</th>\n",
              "      <th>Alcohol Related</th>\n",
              "      <th>_f_Cyclist</th>\n",
              "      <th>_Veh_1 Trvl_Dir</th>\n",
              "      <th>_Dist No_Persons</th>\n",
              "      <th>...</th>\n",
              "      <th>_Accident Month_Name</th>\n",
              "      <th>_Dist No_Crashes</th>\n",
              "      <th>_DA_RunningTotal</th>\n",
              "      <th>_Cyclist Involved</th>\n",
              "      <th>_Veh_6 Trvl_Dir</th>\n",
              "      <th>_Veh_5 Trvl_Dir</th>\n",
              "      <th>_Veh_4 Trvl_Dir</th>\n",
              "      <th>_Veh_2 Trvl_Dir</th>\n",
              "      <th>_Veh_3 Trvl_Dir</th>\n",
              "      <th>_f_Pedestrian</th>\n",
              "    </tr>\n",
              "  </thead>\n",
              "  <tbody>\n",
              "    <tr>\n",
              "      <th>0</th>\n",
              "      <td>A</td>\n",
              "      <td>TU</td>\n",
              "      <td>HIT PARKED VEHICLE</td>\n",
              "      <td>905</td>\n",
              "      <td>True</td>\n",
              "      <td>2017</td>\n",
              "      <td>N</td>\n",
              "      <td>False</td>\n",
              "      <td>9</td>\n",
              "      <td>1</td>\n",
              "      <td>...</td>\n",
              "      <td>May</td>\n",
              "      <td>1</td>\n",
              "      <td>1</td>\n",
              "      <td>N</td>\n",
              "      <td>-</td>\n",
              "      <td>-</td>\n",
              "      <td>-</td>\n",
              "      <td>-</td>\n",
              "      <td>-</td>\n",
              "      <td>False</td>\n",
              "    </tr>\n",
              "    <tr>\n",
              "      <th>1</th>\n",
              "      <td>A</td>\n",
              "      <td>TU</td>\n",
              "      <td>HIT PARKED VEHICLE</td>\n",
              "      <td>905</td>\n",
              "      <td>True</td>\n",
              "      <td>2017</td>\n",
              "      <td>N</td>\n",
              "      <td>False</td>\n",
              "      <td>9</td>\n",
              "      <td>1</td>\n",
              "      <td>...</td>\n",
              "      <td>May</td>\n",
              "      <td>1</td>\n",
              "      <td>1</td>\n",
              "      <td>N</td>\n",
              "      <td>-</td>\n",
              "      <td>-</td>\n",
              "      <td>-</td>\n",
              "      <td>-</td>\n",
              "      <td>-</td>\n",
              "      <td>False</td>\n",
              "    </tr>\n",
              "    <tr>\n",
              "      <th>2</th>\n",
              "      <td>A</td>\n",
              "      <td>SA</td>\n",
              "      <td>RAN OFF ROAD</td>\n",
              "      <td>2227</td>\n",
              "      <td>True</td>\n",
              "      <td>2021</td>\n",
              "      <td>Y</td>\n",
              "      <td>False</td>\n",
              "      <td>N</td>\n",
              "      <td>1</td>\n",
              "      <td>...</td>\n",
              "      <td>July</td>\n",
              "      <td>1</td>\n",
              "      <td>1</td>\n",
              "      <td>N</td>\n",
              "      <td>-</td>\n",
              "      <td>-</td>\n",
              "      <td>-</td>\n",
              "      <td>-</td>\n",
              "      <td>-</td>\n",
              "      <td>False</td>\n",
              "    </tr>\n",
              "    <tr>\n",
              "      <th>3</th>\n",
              "      <td>A</td>\n",
              "      <td>TH</td>\n",
              "      <td>HIT PARKED VEHICLE</td>\n",
              "      <td>700</td>\n",
              "      <td>True</td>\n",
              "      <td>2016</td>\n",
              "      <td>N</td>\n",
              "      <td>False</td>\n",
              "      <td>9</td>\n",
              "      <td>1</td>\n",
              "      <td>...</td>\n",
              "      <td>April</td>\n",
              "      <td>1</td>\n",
              "      <td>1</td>\n",
              "      <td>N</td>\n",
              "      <td>-</td>\n",
              "      <td>-</td>\n",
              "      <td>-</td>\n",
              "      <td>9</td>\n",
              "      <td>-</td>\n",
              "      <td>False</td>\n",
              "    </tr>\n",
              "    <tr>\n",
              "      <th>4</th>\n",
              "      <td>A</td>\n",
              "      <td>WE</td>\n",
              "      <td>HIT PARKED VEHICLE</td>\n",
              "      <td>910</td>\n",
              "      <td>True</td>\n",
              "      <td>2016</td>\n",
              "      <td>N</td>\n",
              "      <td>False</td>\n",
              "      <td>S</td>\n",
              "      <td>1</td>\n",
              "      <td>...</td>\n",
              "      <td>October</td>\n",
              "      <td>1</td>\n",
              "      <td>1</td>\n",
              "      <td>N</td>\n",
              "      <td>-</td>\n",
              "      <td>-</td>\n",
              "      <td>-</td>\n",
              "      <td>S</td>\n",
              "      <td>-</td>\n",
              "      <td>False</td>\n",
              "    </tr>\n",
              "  </tbody>\n",
              "</table>\n",
              "<p>5 rows × 78 columns</p>\n",
              "</div>\n",
              "      <button class=\"colab-df-convert\" onclick=\"convertToInteractive('df-b0f3ff8b-a9b7-4439-97ea-de69aa3c2ae8')\"\n",
              "              title=\"Convert this dataframe to an interactive table.\"\n",
              "              style=\"display:none;\">\n",
              "        \n",
              "  <svg xmlns=\"http://www.w3.org/2000/svg\" height=\"24px\"viewBox=\"0 0 24 24\"\n",
              "       width=\"24px\">\n",
              "    <path d=\"M0 0h24v24H0V0z\" fill=\"none\"/>\n",
              "    <path d=\"M18.56 5.44l.94 2.06.94-2.06 2.06-.94-2.06-.94-.94-2.06-.94 2.06-2.06.94zm-11 1L8.5 8.5l.94-2.06 2.06-.94-2.06-.94L8.5 2.5l-.94 2.06-2.06.94zm10 10l.94 2.06.94-2.06 2.06-.94-2.06-.94-.94-2.06-.94 2.06-2.06.94z\"/><path d=\"M17.41 7.96l-1.37-1.37c-.4-.4-.92-.59-1.43-.59-.52 0-1.04.2-1.43.59L10.3 9.45l-7.72 7.72c-.78.78-.78 2.05 0 2.83L4 21.41c.39.39.9.59 1.41.59.51 0 1.02-.2 1.41-.59l7.78-7.78 2.81-2.81c.8-.78.8-2.07 0-2.86zM5.41 20L4 18.59l7.72-7.72 1.47 1.35L5.41 20z\"/>\n",
              "  </svg>\n",
              "      </button>\n",
              "      \n",
              "  <style>\n",
              "    .colab-df-container {\n",
              "      display:flex;\n",
              "      flex-wrap:wrap;\n",
              "      gap: 12px;\n",
              "    }\n",
              "\n",
              "    .colab-df-convert {\n",
              "      background-color: #E8F0FE;\n",
              "      border: none;\n",
              "      border-radius: 50%;\n",
              "      cursor: pointer;\n",
              "      display: none;\n",
              "      fill: #1967D2;\n",
              "      height: 32px;\n",
              "      padding: 0 0 0 0;\n",
              "      width: 32px;\n",
              "    }\n",
              "\n",
              "    .colab-df-convert:hover {\n",
              "      background-color: #E2EBFA;\n",
              "      box-shadow: 0px 1px 2px rgba(60, 64, 67, 0.3), 0px 1px 3px 1px rgba(60, 64, 67, 0.15);\n",
              "      fill: #174EA6;\n",
              "    }\n",
              "\n",
              "    [theme=dark] .colab-df-convert {\n",
              "      background-color: #3B4455;\n",
              "      fill: #D2E3FC;\n",
              "    }\n",
              "\n",
              "    [theme=dark] .colab-df-convert:hover {\n",
              "      background-color: #434B5C;\n",
              "      box-shadow: 0px 1px 3px 1px rgba(0, 0, 0, 0.15);\n",
              "      filter: drop-shadow(0px 1px 2px rgba(0, 0, 0, 0.3));\n",
              "      fill: #FFFFFF;\n",
              "    }\n",
              "  </style>\n",
              "\n",
              "      <script>\n",
              "        const buttonEl =\n",
              "          document.querySelector('#df-b0f3ff8b-a9b7-4439-97ea-de69aa3c2ae8 button.colab-df-convert');\n",
              "        buttonEl.style.display =\n",
              "          google.colab.kernel.accessAllowed ? 'block' : 'none';\n",
              "\n",
              "        async function convertToInteractive(key) {\n",
              "          const element = document.querySelector('#df-b0f3ff8b-a9b7-4439-97ea-de69aa3c2ae8');\n",
              "          const dataTable =\n",
              "            await google.colab.kernel.invokeFunction('convertToInteractive',\n",
              "                                                     [key], {});\n",
              "          if (!dataTable) return;\n",
              "\n",
              "          const docLinkHtml = 'Like what you see? Visit the ' +\n",
              "            '<a target=\"_blank\" href=https://colab.research.google.com/notebooks/data_table.ipynb>data table notebook</a>'\n",
              "            + ' to learn more about interactive tables.';\n",
              "          element.innerHTML = '';\n",
              "          dataTable['output_type'] = 'display_data';\n",
              "          await google.colab.output.renderOutput(dataTable, element);\n",
              "          const docLink = document.createElement('div');\n",
              "          docLink.innerHTML = docLinkHtml;\n",
              "          element.appendChild(docLink);\n",
              "        }\n",
              "      </script>\n",
              "    </div>\n",
              "  </div>\n",
              "  "
            ]
          },
          "metadata": {},
          "execution_count": 44
        }
      ],
      "source": [
        "from google.colab import drive\n",
        "drive.mount('/content/drive/')\n",
        "\n",
        "data1 = 'MyDrive/NT_AUS_CRASH/data20122022.csv'\n",
        "data2 = 'MyDrive/NT_AUS_CRASH/data20142022.csv'\n",
        "\n",
        "df1 = pd.read_csv('/content/drive/MyDrive/NT_AUS_CRASH/data20122022.csv')\n",
        "df2 = pd.read_csv('/content/drive/MyDrive/NT_AUS_CRASH/data20142022.csv')\n",
        "\n",
        "df2.head()"
      ]
    },
    {
      "cell_type": "code",
      "execution_count": null,
      "id": "78b67a51",
      "metadata": {
        "execution": {
          "iopub.execute_input": "2022-04-06T15:15:35.928956Z",
          "iopub.status.busy": "2022-04-06T15:15:35.925158Z",
          "iopub.status.idle": "2022-04-06T15:15:35.978609Z",
          "shell.execute_reply": "2022-04-06T15:15:35.977988Z",
          "shell.execute_reply.started": "2022-04-06T15:14:29.602075Z"
        },
        "papermill": {
          "duration": 0.076272,
          "end_time": "2022-04-06T15:15:35.978734",
          "exception": false,
          "start_time": "2022-04-06T15:15:35.902462",
          "status": "completed"
        },
        "tags": [],
        "colab": {
          "base_uri": "https://localhost:8080/"
        },
        "id": "78b67a51",
        "outputId": "2d60c590-6d2c-4588-d545-06f259404321"
      },
      "outputs": [
        {
          "output_type": "stream",
          "name": "stdout",
          "text": [
            "<class 'pandas.core.frame.DataFrame'>\n",
            "Int64Index: 26964 entries, 0 to 26965\n",
            "Data columns (total 3 columns):\n",
            " #   Column         Non-Null Count  Dtype \n",
            "---  ------         --------------  ----- \n",
            " 0   Accident_Time  26964 non-null  int64 \n",
            " 1   Accident_Year  26964 non-null  int64 \n",
            " 2   suburb         26964 non-null  object\n",
            "dtypes: int64(2), object(1)\n",
            "memory usage: 842.6+ KB\n"
          ]
        }
      ],
      "source": [
        "df2.info()"
      ]
    },
    {
      "cell_type": "markdown",
      "id": "da1807b1",
      "metadata": {
        "papermill": {
          "duration": 0.013434,
          "end_time": "2022-04-06T15:15:36.006747",
          "exception": false,
          "start_time": "2022-04-06T15:15:35.993313",
          "status": "completed"
        },
        "tags": [],
        "id": "da1807b1"
      },
      "source": [
        "## Number of crashes by weekday"
      ]
    },
    {
      "cell_type": "code",
      "execution_count": null,
      "id": "20afdfaf",
      "metadata": {
        "execution": {
          "iopub.execute_input": "2022-04-06T15:15:36.038340Z",
          "iopub.status.busy": "2022-04-06T15:15:36.037770Z",
          "iopub.status.idle": "2022-04-06T15:15:36.039513Z",
          "shell.execute_reply": "2022-04-06T15:15:36.039952Z",
          "shell.execute_reply.started": "2022-04-06T15:14:29.912348Z"
        },
        "papermill": {
          "duration": 0.019477,
          "end_time": "2022-04-06T15:15:36.040092",
          "exception": false,
          "start_time": "2022-04-06T15:15:36.020615",
          "status": "completed"
        },
        "tags": [],
        "id": "20afdfaf"
      },
      "outputs": [],
      "source": [
        "# by_day = df.groupby(df['Dayweek']).count()\n",
        "# count_by_day = by_day['Crash ID']\n",
        "# by_day"
      ]
    },
    {
      "cell_type": "code",
      "source": [
        "sns.set(font_scale = 0.8)\n",
        "sns.histplot(data=df2, x ='Alcohol Related', shrink=0.8)"
      ],
      "metadata": {
        "colab": {
          "base_uri": "https://localhost:8080/",
          "height": 298
        },
        "id": "SgmI5RiGbyP3",
        "outputId": "8467a55e-eb82-4351-b588-57e181165ad9"
      },
      "id": "SgmI5RiGbyP3",
      "execution_count": null,
      "outputs": [
        {
          "output_type": "execute_result",
          "data": {
            "text/plain": [
              "<matplotlib.axes._subplots.AxesSubplot at 0x7fe7253d4a10>"
            ]
          },
          "metadata": {},
          "execution_count": 5
        },
        {
          "output_type": "display_data",
          "data": {
            "text/plain": [
              "<Figure size 432x288 with 1 Axes>"
            ],
            "image/png": "[encoded data removed]"
          },
          "metadata": {}
        }
      ]
    },
    {
      "cell_type": "code",
      "source": [
        "sns.histplot(data=df2, x ='Speed Related')"
      ],
      "metadata": {
        "colab": {
          "base_uri": "https://localhost:8080/",
          "height": 298
        },
        "id": "HNDp8PcTb8tz",
        "outputId": "d3a29e3e-4142-450e-e010-e940fe121006"
      },
      "id": "HNDp8PcTb8tz",
      "execution_count": null,
      "outputs": [
        {
          "output_type": "execute_result",
          "data": {
            "text/plain": [
              "<matplotlib.axes._subplots.AxesSubplot at 0x7f55310451d0>"
            ]
          },
          "metadata": {},
          "execution_count": 18
        },
        {
          "output_type": "display_data",
          "data": {
            "text/plain": [
              "<Figure size 432x288 with 1 Axes>"
            ],
            "image/png": "[encoded data removed]"
          },
          "metadata": {}
        }
      ]
    },
    {
      "cell_type": "code",
      "source": [
        "sns.histplot(data=df2, x ='Traffic Density')"
      ],
      "metadata": {
        "colab": {
          "base_uri": "https://localhost:8080/",
          "height": 298
        },
        "id": "viSoi6j-cjo_",
        "outputId": "6ea3dd46-a9af-44e3-c835-002618805015"
      },
      "id": "viSoi6j-cjo_",
      "execution_count": null,
      "outputs": [
        {
          "output_type": "execute_result",
          "data": {
            "text/plain": [
              "<matplotlib.axes._subplots.AxesSubplot at 0x7f5530fdedd0>"
            ]
          },
          "metadata": {},
          "execution_count": 19
        },
        {
          "output_type": "display_data",
          "data": {
            "text/plain": [
              "<Figure size 432x288 with 1 Axes>"
            ],
            "image/png": "[encoded data removed]"
          },
          "metadata": {}
        }
      ]
    },
    {
      "cell_type": "code",
      "source": [
        "sns.set(font_scale = 2.0)\n",
        "plt.gcf().set_size_inches(25, 8)\n",
        "sns.histplot(data=df2, x ='Injury Description')"
      ],
      "metadata": {
        "colab": {
          "base_uri": "https://localhost:8080/",
          "height": 540
        },
        "id": "g9pB43r5eWh2",
        "outputId": "68271c73-e36d-496a-a307-4cabcfbbf753"
      },
      "id": "g9pB43r5eWh2",
      "execution_count": null,
      "outputs": [
        {
          "output_type": "execute_result",
          "data": {
            "text/plain": [
              "<matplotlib.axes._subplots.AxesSubplot at 0x7fab2be90ad0>"
            ]
          },
          "metadata": {},
          "execution_count": 12
        },
        {
          "output_type": "display_data",
          "data": {
            "text/plain": [
              "<Figure size 1800x576 with 1 Axes>"
            ],
            "image/png": "[encoded data removed]"
          },
          "metadata": {}
        }
      ]
    },
    {
      "cell_type": "code",
      "source": [
        "df1.head()\n"
      ],
      "metadata": {
        "colab": {
          "base_uri": "https://localhost:8080/",
          "height": 401
        },
        "id": "_Ynb1dHZhqzM",
        "outputId": "491e15bd-b7b4-411c-fc7e-552b56d2251b"
      },
      "id": "_Ynb1dHZhqzM",
      "execution_count": null,
      "outputs": [
        {
          "output_type": "execute_result",
          "data": {
            "text/plain": [
              "   # Experience  # Kilo Dist  # Mcycle Cc  # Meter Dist  # Num Injured  \\\n",
              "0           0.0         12.0          0.0           0.0            1.0   \n",
              "1           0.0          2.0          0.0           0.0            1.0   \n",
              "2          99.0          2.0          0.0           0.0            1.0   \n",
              "3          99.0          2.0          0.0           0.0            1.0   \n",
              "4           0.0          2.0          0.0           0.0            1.0   \n",
              "\n",
              "   # Num Towed  # Occupants  # Vehicle Seq Accident Code     Accident Date  \\\n",
              "0          0.0          1.0            2.0             A  24/01/2012 20:30   \n",
              "1          0.0          1.0            1.0             A  27/01/2012 22:35   \n",
              "2          1.0          1.0            2.0             A  27/01/2012 22:35   \n",
              "3          0.0          4.0            3.0             A  27/01/2012 22:35   \n",
              "4          0.0          1.0            4.0             A  27/01/2012 22:35   \n",
              "\n",
              "   ... _Heavy Bus Involved _Intersection Filter  _Point_Found  \\\n",
              "0  ...                   N                 True           0.0   \n",
              "1  ...                   N                 True           0.0   \n",
              "2  ...                   N                 True           0.0   \n",
              "3  ...                   N                 True           0.0   \n",
              "4  ...                   N                 True           0.0   \n",
              "\n",
              "  _Heavy Articulated Truck Involved  _Veh_6 Trvl_Dir  _Veh_5 Trvl_Dir  \\\n",
              "0                                 N                -                -   \n",
              "1                                 N                -                -   \n",
              "2                                 N                -                -   \n",
              "3                                 N                -                -   \n",
              "4                                 N                -                -   \n",
              "\n",
              "  _Veh_4 Trvl_Dir  _Veh_2 Trvl_Dir  _Veh_3 Trvl_Dir  _f_Pedestrian  \n",
              "0               -                9                -           True  \n",
              "1               9                E                E           True  \n",
              "2               9                E                E          False  \n",
              "3               9                E                E          False  \n",
              "4               9                E                E           True  \n",
              "\n",
              "[5 rows x 130 columns]"
            ],
            "text/html": [
              "\n",
              "  <div id=\"df-0fb20c25-cf04-40dc-90c2-fdc0ce872d29\">\n",
              "    <div class=\"colab-df-container\">\n",
              "      <div>\n",
              "<style scoped>\n",
              "    .dataframe tbody tr th:only-of-type {\n",
              "        vertical-align: middle;\n",
              "    }\n",
              "\n",
              "    .dataframe tbody tr th {\n",
              "        vertical-align: top;\n",
              "    }\n",
              "\n",
              "    .dataframe thead th {\n",
              "        text-align: right;\n",
              "    }\n",
              "</style>\n",
              "<table border=\"1\" class=\"dataframe\">\n",
              "  <thead>\n",
              "    <tr style=\"text-align: right;\">\n",
              "      <th></th>\n",
              "      <th># Experience</th>\n",
              "      <th># Kilo Dist</th>\n",
              "      <th># Mcycle Cc</th>\n",
              "      <th># Meter Dist</th>\n",
              "      <th># Num Injured</th>\n",
              "      <th># Num Towed</th>\n",
              "      <th># Occupants</th>\n",
              "      <th># Vehicle Seq</th>\n",
              "      <th>Accident Code</th>\n",
              "      <th>Accident Date</th>\n",
              "      <th>...</th>\n",
              "      <th>_Heavy Bus Involved</th>\n",
              "      <th>_Intersection Filter</th>\n",
              "      <th>_Point_Found</th>\n",
              "      <th>_Heavy Articulated Truck Involved</th>\n",
              "      <th>_Veh_6 Trvl_Dir</th>\n",
              "      <th>_Veh_5 Trvl_Dir</th>\n",
              "      <th>_Veh_4 Trvl_Dir</th>\n",
              "      <th>_Veh_2 Trvl_Dir</th>\n",
              "      <th>_Veh_3 Trvl_Dir</th>\n",
              "      <th>_f_Pedestrian</th>\n",
              "    </tr>\n",
              "  </thead>\n",
              "  <tbody>\n",
              "    <tr>\n",
              "      <th>0</th>\n",
              "      <td>0.0</td>\n",
              "      <td>12.0</td>\n",
              "      <td>0.0</td>\n",
              "      <td>0.0</td>\n",
              "      <td>1.0</td>\n",
              "      <td>0.0</td>\n",
              "      <td>1.0</td>\n",
              "      <td>2.0</td>\n",
              "      <td>A</td>\n",
              "      <td>24/01/2012 20:30</td>\n",
              "      <td>...</td>\n",
              "      <td>N</td>\n",
              "      <td>True</td>\n",
              "      <td>0.0</td>\n",
              "      <td>N</td>\n",
              "      <td>-</td>\n",
              "      <td>-</td>\n",
              "      <td>-</td>\n",
              "      <td>9</td>\n",
              "      <td>-</td>\n",
              "      <td>True</td>\n",
              "    </tr>\n",
              "    <tr>\n",
              "      <th>1</th>\n",
              "      <td>0.0</td>\n",
              "      <td>2.0</td>\n",
              "      <td>0.0</td>\n",
              "      <td>0.0</td>\n",
              "      <td>1.0</td>\n",
              "      <td>0.0</td>\n",
              "      <td>1.0</td>\n",
              "      <td>1.0</td>\n",
              "      <td>A</td>\n",
              "      <td>27/01/2012 22:35</td>\n",
              "      <td>...</td>\n",
              "      <td>N</td>\n",
              "      <td>True</td>\n",
              "      <td>0.0</td>\n",
              "      <td>N</td>\n",
              "      <td>-</td>\n",
              "      <td>-</td>\n",
              "      <td>9</td>\n",
              "      <td>E</td>\n",
              "      <td>E</td>\n",
              "      <td>True</td>\n",
              "    </tr>\n",
              "    <tr>\n",
              "      <th>2</th>\n",
              "      <td>99.0</td>\n",
              "      <td>2.0</td>\n",
              "      <td>0.0</td>\n",
              "      <td>0.0</td>\n",
              "      <td>1.0</td>\n",
              "      <td>1.0</td>\n",
              "      <td>1.0</td>\n",
              "      <td>2.0</td>\n",
              "      <td>A</td>\n",
              "      <td>27/01/2012 22:35</td>\n",
              "      <td>...</td>\n",
              "      <td>N</td>\n",
              "      <td>True</td>\n",
              "      <td>0.0</td>\n",
              "      <td>N</td>\n",
              "      <td>-</td>\n",
              "      <td>-</td>\n",
              "      <td>9</td>\n",
              "      <td>E</td>\n",
              "      <td>E</td>\n",
              "      <td>False</td>\n",
              "    </tr>\n",
              "    <tr>\n",
              "      <th>3</th>\n",
              "      <td>99.0</td>\n",
              "      <td>2.0</td>\n",
              "      <td>0.0</td>\n",
              "      <td>0.0</td>\n",
              "      <td>1.0</td>\n",
              "      <td>0.0</td>\n",
              "      <td>4.0</td>\n",
              "      <td>3.0</td>\n",
              "      <td>A</td>\n",
              "      <td>27/01/2012 22:35</td>\n",
              "      <td>...</td>\n",
              "      <td>N</td>\n",
              "      <td>True</td>\n",
              "      <td>0.0</td>\n",
              "      <td>N</td>\n",
              "      <td>-</td>\n",
              "      <td>-</td>\n",
              "      <td>9</td>\n",
              "      <td>E</td>\n",
              "      <td>E</td>\n",
              "      <td>False</td>\n",
              "    </tr>\n",
              "    <tr>\n",
              "      <th>4</th>\n",
              "      <td>0.0</td>\n",
              "      <td>2.0</td>\n",
              "      <td>0.0</td>\n",
              "      <td>0.0</td>\n",
              "      <td>1.0</td>\n",
              "      <td>0.0</td>\n",
              "      <td>1.0</td>\n",
              "      <td>4.0</td>\n",
              "      <td>A</td>\n",
              "      <td>27/01/2012 22:35</td>\n",
              "      <td>...</td>\n",
              "      <td>N</td>\n",
              "      <td>True</td>\n",
              "      <td>0.0</td>\n",
              "      <td>N</td>\n",
              "      <td>-</td>\n",
              "      <td>-</td>\n",
              "      <td>9</td>\n",
              "      <td>E</td>\n",
              "      <td>E</td>\n",
              "      <td>True</td>\n",
              "    </tr>\n",
              "  </tbody>\n",
              "</table>\n",
              "<p>5 rows × 130 columns</p>\n",
              "</div>\n",
              "      <button class=\"colab-df-convert\" onclick=\"convertToInteractive('df-0fb20c25-cf04-40dc-90c2-fdc0ce872d29')\"\n",
              "              title=\"Convert this dataframe to an interactive table.\"\n",
              "              style=\"display:none;\">\n",
              "        \n",
              "  <svg xmlns=\"http://www.w3.org/2000/svg\" height=\"24px\"viewBox=\"0 0 24 24\"\n",
              "       width=\"24px\">\n",
              "    <path d=\"M0 0h24v24H0V0z\" fill=\"none\"/>\n",
              "    <path d=\"M18.56 5.44l.94 2.06.94-2.06 2.06-.94-2.06-.94-.94-2.06-.94 2.06-2.06.94zm-11 1L8.5 8.5l.94-2.06 2.06-.94-2.06-.94L8.5 2.5l-.94 2.06-2.06.94zm10 10l.94 2.06.94-2.06 2.06-.94-2.06-.94-.94-2.06-.94 2.06-2.06.94z\"/><path d=\"M17.41 7.96l-1.37-1.37c-.4-.4-.92-.59-1.43-.59-.52 0-1.04.2-1.43.59L10.3 9.45l-7.72 7.72c-.78.78-.78 2.05 0 2.83L4 21.41c.39.39.9.59 1.41.59.51 0 1.02-.2 1.41-.59l7.78-7.78 2.81-2.81c.8-.78.8-2.07 0-2.86zM5.41 20L4 18.59l7.72-7.72 1.47 1.35L5.41 20z\"/>\n",
              "  </svg>\n",
              "      </button>\n",
              "      \n",
              "  <style>\n",
              "    .colab-df-container {\n",
              "      display:flex;\n",
              "      flex-wrap:wrap;\n",
              "      gap: 12px;\n",
              "    }\n",
              "\n",
              "    .colab-df-convert {\n",
              "      background-color: #E8F0FE;\n",
              "      border: none;\n",
              "      border-radius: 50%;\n",
              "      cursor: pointer;\n",
              "      display: none;\n",
              "      fill: #1967D2;\n",
              "      height: 32px;\n",
              "      padding: 0 0 0 0;\n",
              "      width: 32px;\n",
              "    }\n",
              "\n",
              "    .colab-df-convert:hover {\n",
              "      background-color: #E2EBFA;\n",
              "      box-shadow: 0px 1px 2px rgba(60, 64, 67, 0.3), 0px 1px 3px 1px rgba(60, 64, 67, 0.15);\n",
              "      fill: #174EA6;\n",
              "    }\n",
              "\n",
              "    [theme=dark] .colab-df-convert {\n",
              "      background-color: #3B4455;\n",
              "      fill: #D2E3FC;\n",
              "    }\n",
              "\n",
              "    [theme=dark] .colab-df-convert:hover {\n",
              "      background-color: #434B5C;\n",
              "      box-shadow: 0px 1px 3px 1px rgba(0, 0, 0, 0.15);\n",
              "      filter: drop-shadow(0px 1px 2px rgba(0, 0, 0, 0.3));\n",
              "      fill: #FFFFFF;\n",
              "    }\n",
              "  </style>\n",
              "\n",
              "      <script>\n",
              "        const buttonEl =\n",
              "          document.querySelector('#df-0fb20c25-cf04-40dc-90c2-fdc0ce872d29 button.colab-df-convert');\n",
              "        buttonEl.style.display =\n",
              "          google.colab.kernel.accessAllowed ? 'block' : 'none';\n",
              "\n",
              "        async function convertToInteractive(key) {\n",
              "          const element = document.querySelector('#df-0fb20c25-cf04-40dc-90c2-fdc0ce872d29');\n",
              "          const dataTable =\n",
              "            await google.colab.kernel.invokeFunction('convertToInteractive',\n",
              "                                                     [key], {});\n",
              "          if (!dataTable) return;\n",
              "\n",
              "          const docLinkHtml = 'Like what you see? Visit the ' +\n",
              "            '<a target=\"_blank\" href=https://colab.research.google.com/notebooks/data_table.ipynb>data table notebook</a>'\n",
              "            + ' to learn more about interactive tables.';\n",
              "          element.innerHTML = '';\n",
              "          dataTable['output_type'] = 'display_data';\n",
              "          await google.colab.output.renderOutput(dataTable, element);\n",
              "          const docLink = document.createElement('div');\n",
              "          docLink.innerHTML = docLinkHtml;\n",
              "          element.appendChild(docLink);\n",
              "        }\n",
              "      </script>\n",
              "    </div>\n",
              "  </div>\n",
              "  "
            ]
          },
          "metadata": {},
          "execution_count": 30
        }
      ]
    },
    {
      "cell_type": "code",
      "source": [
        "df1.info()"
      ],
      "metadata": {
        "colab": {
          "base_uri": "https://localhost:8080/"
        },
        "id": "ovHZJhvMh0RN",
        "outputId": "a0b99274-f25d-44c0-894d-e6446d3bc31b"
      },
      "id": "ovHZJhvMh0RN",
      "execution_count": null,
      "outputs": [
        {
          "output_type": "stream",
          "name": "stdout",
          "text": [
            "<class 'pandas.core.frame.DataFrame'>\n",
            "RangeIndex: 34534 entries, 0 to 34533\n",
            "Columns: 130 entries, # Experience to _f_Pedestrian\n",
            "dtypes: float64(45), object(85)\n",
            "memory usage: 34.3+ MB\n"
          ]
        }
      ]
    }
  ],
  "metadata": {
    "kernelspec": {
      "display_name": "Python 3",
      "language": "python",
      "name": "python3"
    },
    "language_info": {
      "codemirror_mode": {
        "name": "ipython",
        "version": 3
      },
      "file_extension": ".py",
      "mimetype": "text/x-python",
      "name": "python",
      "nbconvert_exporter": "python",
      "pygments_lexer": "ipython3",
      "version": "3.7.12"
    },
    "papermill": {
      "default_parameters": {},
      "duration": 41.777212,
      "end_time": "2022-04-06T15:16:09.324989",
      "environment_variables": {},
      "exception": null,
      "input_path": "__notebook__.ipynb",
      "output_path": "__notebook__.ipynb",
      "parameters": {},
      "start_time": "2022-04-06T15:15:27.547777",
      "version": "2.3.3"
    },
    "colab": {
      "name": "Data_Analytics_Assignment_3 Kazi.ipynb",
      "provenance": [],
      "collapsed_sections": []
    }
  },
  "nbformat": 4,
  "nbformat_minor": 5
}